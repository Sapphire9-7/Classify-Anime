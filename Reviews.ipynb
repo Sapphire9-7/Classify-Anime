{
 "cells": [
  {
   "cell_type": "code",
   "execution_count": 1,
   "metadata": {},
   "outputs": [
    {
     "data": {
      "text/html": [
       "<div>\n",
       "<style scoped>\n",
       "    .dataframe tbody tr th:only-of-type {\n",
       "        vertical-align: middle;\n",
       "    }\n",
       "\n",
       "    .dataframe tbody tr th {\n",
       "        vertical-align: top;\n",
       "    }\n",
       "\n",
       "    .dataframe thead th {\n",
       "        text-align: right;\n",
       "    }\n",
       "</style>\n",
       "<table border=\"1\" class=\"dataframe\">\n",
       "  <thead>\n",
       "    <tr style=\"text-align: right;\">\n",
       "      <th></th>\n",
       "      <th>uid</th>\n",
       "      <th>profile</th>\n",
       "      <th>anime_uid</th>\n",
       "      <th>text</th>\n",
       "      <th>score</th>\n",
       "      <th>scores</th>\n",
       "      <th>link</th>\n",
       "    </tr>\n",
       "  </thead>\n",
       "  <tbody>\n",
       "    <tr>\n",
       "      <th>0</th>\n",
       "      <td>255938</td>\n",
       "      <td>DesolatePsyche</td>\n",
       "      <td>34096</td>\n",
       "      <td>\\n           \\n         \\n           \\n       ...</td>\n",
       "      <td>8</td>\n",
       "      <td>{'Overall': '8', 'Story': '8', 'Animation': '8...</td>\n",
       "      <td>https://myanimelist.net/reviews.php?id=255938</td>\n",
       "    </tr>\n",
       "    <tr>\n",
       "      <th>1</th>\n",
       "      <td>259117</td>\n",
       "      <td>baekbeans</td>\n",
       "      <td>34599</td>\n",
       "      <td>\\n           \\n         \\n           \\n       ...</td>\n",
       "      <td>10</td>\n",
       "      <td>{'Overall': '10', 'Story': '10', 'Animation': ...</td>\n",
       "      <td>https://myanimelist.net/reviews.php?id=259117</td>\n",
       "    </tr>\n",
       "    <tr>\n",
       "      <th>2</th>\n",
       "      <td>253664</td>\n",
       "      <td>skrn</td>\n",
       "      <td>28891</td>\n",
       "      <td>\\n           \\n         \\n           \\n       ...</td>\n",
       "      <td>7</td>\n",
       "      <td>{'Overall': '7', 'Story': '7', 'Animation': '9...</td>\n",
       "      <td>https://myanimelist.net/reviews.php?id=253664</td>\n",
       "    </tr>\n",
       "    <tr>\n",
       "      <th>3</th>\n",
       "      <td>8254</td>\n",
       "      <td>edgewalker00</td>\n",
       "      <td>2904</td>\n",
       "      <td>\\n           \\n         \\n           \\n       ...</td>\n",
       "      <td>9</td>\n",
       "      <td>{'Overall': '9', 'Story': '9', 'Animation': '9...</td>\n",
       "      <td>https://myanimelist.net/reviews.php?id=8254</td>\n",
       "    </tr>\n",
       "    <tr>\n",
       "      <th>4</th>\n",
       "      <td>291149</td>\n",
       "      <td>aManOfCulture99</td>\n",
       "      <td>4181</td>\n",
       "      <td>\\n           \\n         \\n           \\n       ...</td>\n",
       "      <td>10</td>\n",
       "      <td>{'Overall': '10', 'Story': '10', 'Animation': ...</td>\n",
       "      <td>https://myanimelist.net/reviews.php?id=291149</td>\n",
       "    </tr>\n",
       "  </tbody>\n",
       "</table>\n",
       "</div>"
      ],
      "text/plain": [
       "      uid          profile  anime_uid  \\\n",
       "0  255938   DesolatePsyche      34096   \n",
       "1  259117        baekbeans      34599   \n",
       "2  253664             skrn      28891   \n",
       "3    8254     edgewalker00       2904   \n",
       "4  291149  aManOfCulture99       4181   \n",
       "\n",
       "                                                text  score  \\\n",
       "0  \\n           \\n         \\n           \\n       ...      8   \n",
       "1  \\n           \\n         \\n           \\n       ...     10   \n",
       "2  \\n           \\n         \\n           \\n       ...      7   \n",
       "3  \\n           \\n         \\n           \\n       ...      9   \n",
       "4  \\n           \\n         \\n           \\n       ...     10   \n",
       "\n",
       "                                              scores  \\\n",
       "0  {'Overall': '8', 'Story': '8', 'Animation': '8...   \n",
       "1  {'Overall': '10', 'Story': '10', 'Animation': ...   \n",
       "2  {'Overall': '7', 'Story': '7', 'Animation': '9...   \n",
       "3  {'Overall': '9', 'Story': '9', 'Animation': '9...   \n",
       "4  {'Overall': '10', 'Story': '10', 'Animation': ...   \n",
       "\n",
       "                                            link  \n",
       "0  https://myanimelist.net/reviews.php?id=255938  \n",
       "1  https://myanimelist.net/reviews.php?id=259117  \n",
       "2  https://myanimelist.net/reviews.php?id=253664  \n",
       "3    https://myanimelist.net/reviews.php?id=8254  \n",
       "4  https://myanimelist.net/reviews.php?id=291149  "
      ]
     },
     "execution_count": 1,
     "metadata": {},
     "output_type": "execute_result"
    }
   ],
   "source": [
    "import pandas as pd\n",
    "reviews = pd.read_csv(\"reviews.csv\")\n",
    "reviews.head()"
   ]
  },
  {
   "cell_type": "code",
   "execution_count": 2,
   "metadata": {},
   "outputs": [
    {
     "data": {
      "text/html": [
       "<div>\n",
       "<style scoped>\n",
       "    .dataframe tbody tr th:only-of-type {\n",
       "        vertical-align: middle;\n",
       "    }\n",
       "\n",
       "    .dataframe tbody tr th {\n",
       "        vertical-align: top;\n",
       "    }\n",
       "\n",
       "    .dataframe thead th {\n",
       "        text-align: right;\n",
       "    }\n",
       "</style>\n",
       "<table border=\"1\" class=\"dataframe\">\n",
       "  <thead>\n",
       "    <tr style=\"text-align: right;\">\n",
       "      <th></th>\n",
       "      <th>scores</th>\n",
       "    </tr>\n",
       "  </thead>\n",
       "  <tbody>\n",
       "    <tr>\n",
       "      <th>0</th>\n",
       "      <td>{'Overall': '8', 'Story': '8', 'Animation': '8...</td>\n",
       "    </tr>\n",
       "    <tr>\n",
       "      <th>1</th>\n",
       "      <td>{'Overall': '10', 'Story': '10', 'Animation': ...</td>\n",
       "    </tr>\n",
       "    <tr>\n",
       "      <th>2</th>\n",
       "      <td>{'Overall': '7', 'Story': '7', 'Animation': '9...</td>\n",
       "    </tr>\n",
       "    <tr>\n",
       "      <th>3</th>\n",
       "      <td>{'Overall': '9', 'Story': '9', 'Animation': '9...</td>\n",
       "    </tr>\n",
       "    <tr>\n",
       "      <th>4</th>\n",
       "      <td>{'Overall': '10', 'Story': '10', 'Animation': ...</td>\n",
       "    </tr>\n",
       "  </tbody>\n",
       "</table>\n",
       "</div>"
      ],
      "text/plain": [
       "                                              scores\n",
       "0  {'Overall': '8', 'Story': '8', 'Animation': '8...\n",
       "1  {'Overall': '10', 'Story': '10', 'Animation': ...\n",
       "2  {'Overall': '7', 'Story': '7', 'Animation': '9...\n",
       "3  {'Overall': '9', 'Story': '9', 'Animation': '9...\n",
       "4  {'Overall': '10', 'Story': '10', 'Animation': ..."
      ]
     },
     "execution_count": 2,
     "metadata": {},
     "output_type": "execute_result"
    }
   ],
   "source": [
    "reviews.drop(['uid','profile', 'anime_uid', 'text', 'score', 'link'], axis=1, inplace=True)\n",
    "reviews.head()"
   ]
  },
  {
   "cell_type": "code",
   "execution_count": 3,
   "metadata": {},
   "outputs": [
    {
     "data": {
      "text/html": [
       "<div>\n",
       "<style scoped>\n",
       "    .dataframe tbody tr th:only-of-type {\n",
       "        vertical-align: middle;\n",
       "    }\n",
       "\n",
       "    .dataframe tbody tr th {\n",
       "        vertical-align: top;\n",
       "    }\n",
       "\n",
       "    .dataframe thead th {\n",
       "        text-align: right;\n",
       "    }\n",
       "</style>\n",
       "<table border=\"1\" class=\"dataframe\">\n",
       "  <thead>\n",
       "    <tr style=\"text-align: right;\">\n",
       "      <th></th>\n",
       "      <th>scores</th>\n",
       "      <th>Overall</th>\n",
       "      <th>Story</th>\n",
       "      <th>Animation</th>\n",
       "      <th>Sound</th>\n",
       "      <th>Character</th>\n",
       "      <th>Enjoyment</th>\n",
       "    </tr>\n",
       "  </thead>\n",
       "  <tbody>\n",
       "    <tr>\n",
       "      <th>0</th>\n",
       "      <td>{'Overall': '8', 'Story': '8', 'Animation': '8...</td>\n",
       "      <td>8</td>\n",
       "      <td>8</td>\n",
       "      <td>8</td>\n",
       "      <td>10</td>\n",
       "      <td>9</td>\n",
       "      <td>8</td>\n",
       "    </tr>\n",
       "    <tr>\n",
       "      <th>1</th>\n",
       "      <td>{'Overall': '10', 'Story': '10', 'Animation': ...</td>\n",
       "      <td>10</td>\n",
       "      <td>10</td>\n",
       "      <td>10</td>\n",
       "      <td>10</td>\n",
       "      <td>10</td>\n",
       "      <td>10</td>\n",
       "    </tr>\n",
       "    <tr>\n",
       "      <th>2</th>\n",
       "      <td>{'Overall': '7', 'Story': '7', 'Animation': '9...</td>\n",
       "      <td>7</td>\n",
       "      <td>7</td>\n",
       "      <td>9</td>\n",
       "      <td>8</td>\n",
       "      <td>8</td>\n",
       "      <td>8</td>\n",
       "    </tr>\n",
       "    <tr>\n",
       "      <th>3</th>\n",
       "      <td>{'Overall': '9', 'Story': '9', 'Animation': '9...</td>\n",
       "      <td>9</td>\n",
       "      <td>9</td>\n",
       "      <td>9</td>\n",
       "      <td>10</td>\n",
       "      <td>10</td>\n",
       "      <td>9</td>\n",
       "    </tr>\n",
       "    <tr>\n",
       "      <th>4</th>\n",
       "      <td>{'Overall': '10', 'Story': '10', 'Animation': ...</td>\n",
       "      <td>10</td>\n",
       "      <td>10</td>\n",
       "      <td>8</td>\n",
       "      <td>9</td>\n",
       "      <td>10</td>\n",
       "      <td>10</td>\n",
       "    </tr>\n",
       "  </tbody>\n",
       "</table>\n",
       "</div>"
      ],
      "text/plain": [
       "                                              scores Overall Story Animation  \\\n",
       "0  {'Overall': '8', 'Story': '8', 'Animation': '8...       8     8         8   \n",
       "1  {'Overall': '10', 'Story': '10', 'Animation': ...      10    10        10   \n",
       "2  {'Overall': '7', 'Story': '7', 'Animation': '9...       7     7         9   \n",
       "3  {'Overall': '9', 'Story': '9', 'Animation': '9...       9     9         9   \n",
       "4  {'Overall': '10', 'Story': '10', 'Animation': ...      10    10         8   \n",
       "\n",
       "  Sound Character Enjoyment  \n",
       "0    10         9         8  \n",
       "1    10        10        10  \n",
       "2     8         8         8  \n",
       "3    10        10         9  \n",
       "4     9        10        10  "
      ]
     },
     "execution_count": 3,
     "metadata": {},
     "output_type": "execute_result"
    }
   ],
   "source": [
    "#splitting the dictionaries.\n",
    "categories = ['Overall', 'Story', 'Animation', 'Sound', 'Character', 'Enjoyment']\n",
    "for category in categories:\n",
    "    reviews[category] = reviews['scores'].apply(lambda x: eval(x)[category])\n",
    "reviews.head()"
   ]
  },
  {
   "cell_type": "code",
   "execution_count": 4,
   "metadata": {},
   "outputs": [],
   "source": [
    "#dropping the original scores (dicitonary) column\n",
    "reviews.drop(['scores'], axis=1, inplace=True)"
   ]
  },
  {
   "cell_type": "code",
   "execution_count": 5,
   "metadata": {},
   "outputs": [
    {
     "data": {
      "text/html": [
       "<div>\n",
       "<style scoped>\n",
       "    .dataframe tbody tr th:only-of-type {\n",
       "        vertical-align: middle;\n",
       "    }\n",
       "\n",
       "    .dataframe tbody tr th {\n",
       "        vertical-align: top;\n",
       "    }\n",
       "\n",
       "    .dataframe thead th {\n",
       "        text-align: right;\n",
       "    }\n",
       "</style>\n",
       "<table border=\"1\" class=\"dataframe\">\n",
       "  <thead>\n",
       "    <tr style=\"text-align: right;\">\n",
       "      <th></th>\n",
       "      <th>Overall</th>\n",
       "      <th>Story</th>\n",
       "      <th>Animation</th>\n",
       "      <th>Sound</th>\n",
       "      <th>Character</th>\n",
       "      <th>Enjoyment</th>\n",
       "      <th>label</th>\n",
       "    </tr>\n",
       "  </thead>\n",
       "  <tbody>\n",
       "    <tr>\n",
       "      <th>0</th>\n",
       "      <td>8</td>\n",
       "      <td>8</td>\n",
       "      <td>8</td>\n",
       "      <td>10</td>\n",
       "      <td>9</td>\n",
       "      <td>8</td>\n",
       "      <td>good</td>\n",
       "    </tr>\n",
       "    <tr>\n",
       "      <th>1</th>\n",
       "      <td>10</td>\n",
       "      <td>10</td>\n",
       "      <td>10</td>\n",
       "      <td>10</td>\n",
       "      <td>10</td>\n",
       "      <td>10</td>\n",
       "      <td>good</td>\n",
       "    </tr>\n",
       "    <tr>\n",
       "      <th>2</th>\n",
       "      <td>7</td>\n",
       "      <td>7</td>\n",
       "      <td>9</td>\n",
       "      <td>8</td>\n",
       "      <td>8</td>\n",
       "      <td>8</td>\n",
       "      <td>not good</td>\n",
       "    </tr>\n",
       "    <tr>\n",
       "      <th>3</th>\n",
       "      <td>9</td>\n",
       "      <td>9</td>\n",
       "      <td>9</td>\n",
       "      <td>10</td>\n",
       "      <td>10</td>\n",
       "      <td>9</td>\n",
       "      <td>good</td>\n",
       "    </tr>\n",
       "    <tr>\n",
       "      <th>4</th>\n",
       "      <td>10</td>\n",
       "      <td>10</td>\n",
       "      <td>8</td>\n",
       "      <td>9</td>\n",
       "      <td>10</td>\n",
       "      <td>10</td>\n",
       "      <td>good</td>\n",
       "    </tr>\n",
       "  </tbody>\n",
       "</table>\n",
       "</div>"
      ],
      "text/plain": [
       "  Overall Story Animation Sound Character Enjoyment     label\n",
       "0       8     8         8    10         9         8      good\n",
       "1      10    10        10    10        10        10      good\n",
       "2       7     7         9     8         8         8  not good\n",
       "3       9     9         9    10        10         9      good\n",
       "4      10    10         8     9        10        10      good"
      ]
     },
     "execution_count": 5,
     "metadata": {},
     "output_type": "execute_result"
    }
   ],
   "source": [
    "#assign a label based on the overall score\n",
    "reviews['label'] = reviews['Overall'].apply(lambda x: 'good' if int(x) >= 8 else 'not good')\n",
    "reviews.head()"
   ]
  },
  {
   "cell_type": "code",
   "execution_count": 6,
   "metadata": {},
   "outputs": [
    {
     "data": {
      "text/html": [
       "<div>\n",
       "<style scoped>\n",
       "    .dataframe tbody tr th:only-of-type {\n",
       "        vertical-align: middle;\n",
       "    }\n",
       "\n",
       "    .dataframe tbody tr th {\n",
       "        vertical-align: top;\n",
       "    }\n",
       "\n",
       "    .dataframe thead th {\n",
       "        text-align: right;\n",
       "    }\n",
       "</style>\n",
       "<table border=\"1\" class=\"dataframe\">\n",
       "  <thead>\n",
       "    <tr style=\"text-align: right;\">\n",
       "      <th></th>\n",
       "      <th>Overall</th>\n",
       "      <th>Story</th>\n",
       "      <th>Animation</th>\n",
       "      <th>Sound</th>\n",
       "      <th>Character</th>\n",
       "      <th>Enjoyment</th>\n",
       "      <th>label</th>\n",
       "    </tr>\n",
       "  </thead>\n",
       "  <tbody>\n",
       "    <tr>\n",
       "      <th>0</th>\n",
       "      <td>8</td>\n",
       "      <td>8</td>\n",
       "      <td>8</td>\n",
       "      <td>10</td>\n",
       "      <td>9</td>\n",
       "      <td>8</td>\n",
       "      <td>1</td>\n",
       "    </tr>\n",
       "    <tr>\n",
       "      <th>1</th>\n",
       "      <td>10</td>\n",
       "      <td>10</td>\n",
       "      <td>10</td>\n",
       "      <td>10</td>\n",
       "      <td>10</td>\n",
       "      <td>10</td>\n",
       "      <td>1</td>\n",
       "    </tr>\n",
       "    <tr>\n",
       "      <th>2</th>\n",
       "      <td>7</td>\n",
       "      <td>7</td>\n",
       "      <td>9</td>\n",
       "      <td>8</td>\n",
       "      <td>8</td>\n",
       "      <td>8</td>\n",
       "      <td>0</td>\n",
       "    </tr>\n",
       "    <tr>\n",
       "      <th>3</th>\n",
       "      <td>9</td>\n",
       "      <td>9</td>\n",
       "      <td>9</td>\n",
       "      <td>10</td>\n",
       "      <td>10</td>\n",
       "      <td>9</td>\n",
       "      <td>1</td>\n",
       "    </tr>\n",
       "    <tr>\n",
       "      <th>4</th>\n",
       "      <td>10</td>\n",
       "      <td>10</td>\n",
       "      <td>8</td>\n",
       "      <td>9</td>\n",
       "      <td>10</td>\n",
       "      <td>10</td>\n",
       "      <td>1</td>\n",
       "    </tr>\n",
       "  </tbody>\n",
       "</table>\n",
       "</div>"
      ],
      "text/plain": [
       "  Overall Story Animation Sound Character Enjoyment  label\n",
       "0       8     8         8    10         9         8      1\n",
       "1      10    10        10    10        10        10      1\n",
       "2       7     7         9     8         8         8      0\n",
       "3       9     9         9    10        10         9      1\n",
       "4      10    10         8     9        10        10      1"
      ]
     },
     "execution_count": 6,
     "metadata": {},
     "output_type": "execute_result"
    }
   ],
   "source": [
    "#split the label into two categroies\n",
    "#good = 1, not good = 0\n",
    "reviews['label'] = reviews['label'].apply(lambda x: 1 if x == 'good' else 0)\n",
    "reviews.head()"
   ]
  },
  {
   "cell_type": "code",
   "execution_count": 7,
   "metadata": {},
   "outputs": [
    {
     "data": {
      "image/png": "[encoded data removed]",
      "text/plain": [
       "<Figure size 432x288 with 1 Axes>"
      ]
     },
     "metadata": {
      "needs_background": "light"
     },
     "output_type": "display_data"
    },
    {
     "data": {
      "image/png": "[encoded data removed]",
      "text/plain": [
       "<Figure size 432x288 with 1 Axes>"
      ]
     },
     "metadata": {
      "needs_background": "light"
     },
     "output_type": "display_data"
    },
    {
     "data": {
      "image/png": "[encoded data removed]",
      "text/plain": [
       "<Figure size 432x288 with 1 Axes>"
      ]
     },
     "metadata": {
      "needs_background": "light"
     },
     "output_type": "display_data"
    },
    {
     "data": {
      "image/png": "[encoded data removed]",
      "text/plain": [
       "<Figure size 432x288 with 1 Axes>"
      ]
     },
     "metadata": {
      "needs_background": "light"
     },
     "output_type": "display_data"
    },
    {
     "data": {
      "image/png": "[encoded data removed]",
      "text/plain": [
       "<Figure size 432x288 with 1 Axes>"
      ]
     },
     "metadata": {
      "needs_background": "light"
     },
     "output_type": "display_data"
    }
   ],
   "source": [
    "#visualizing the correlation between the features and the label\n",
    "import matplotlib.pyplot as plt\n",
    "import seaborn as sns\n",
    "features = ['Story', 'Animation', 'Sound', 'Character', 'Enjoyment']\n",
    "for feature in features:\n",
    "    sns.barplot(x='label', y=feature, data=reviews)\n",
    "    plt.show()"
   ]
  },
  {
   "cell_type": "code",
   "execution_count": 8,
   "metadata": {},
   "outputs": [],
   "source": [
    "#splitting the data into training and testing sets\n",
    "from sklearn.model_selection import train_test_split\n",
    "X = reviews.drop(['label'], axis=1)\n",
    "y = reviews['label']\n",
    "X_train, X_test, y_train, y_test = train_test_split(X, y, test_size=0.2, random_state=42)\n",
    "#validation\n",
    "X_test, X_val, y_test, y_val = train_test_split(X_train, y_train, test_size=0.2, random_state=42)"
   ]
  },
  {
   "cell_type": "code",
   "execution_count": 9,
   "metadata": {},
   "outputs": [
    {
     "data": {
      "text/plain": [
       "RandomForestClassifier(random_state=42)"
      ]
     },
     "execution_count": 9,
     "metadata": {},
     "output_type": "execute_result"
    }
   ],
   "source": [
    "#Training a random forest classifier\n",
    "from sklearn.ensemble import RandomForestClassifier\n",
    "rfc = RandomForestClassifier(n_estimators=100, random_state=42)\n",
    "rfc.fit(X_train, y_train)\n",
    "\n"
   ]
  },
  {
   "cell_type": "code",
   "execution_count": 10,
   "metadata": {},
   "outputs": [
    {
     "name": "stdout",
     "output_type": "stream",
     "text": [
      "{'n_estimators': <hyperopt.pyll.base.Apply object at 0x000002C047E2DFD0>, 'max_depth': <hyperopt.pyll.base.Apply object at 0x000002C006DAC5E0>, 'max_features': <hyperopt.pyll.base.Apply object at 0x000002C006DCC0A0>, 'criterion': <hyperopt.pyll.base.Apply object at 0x000002C006DCC220>}\n"
     ]
    }
   ],
   "source": [
    "#hyperparameter optimization using hyperopt\n",
    "from hyperopt import hp, fmin, tpe, STATUS_OK, Trials\n",
    "space = {\n",
    "    'n_estimators': hp.choice('n_estimators', [10, 50, 100, 150, 200]),\n",
    "    'max_depth': hp.choice('max_depth', [10, 20, 30, 40, 50]),\n",
    "    'max_features': hp.choice('max_features', ['auto', 'sqrt', 'log2']),\n",
    "    'criterion': hp.choice('criterion', ['gini', 'entropy'])\n",
    "}\n",
    "print(space)\n"
   ]
  },
  {
   "cell_type": "code",
   "execution_count": 11,
   "metadata": {},
   "outputs": [],
   "source": [
    "#objective function\n",
    "#In this step, we define the objective function that hyperopt will minimize.\n",
    "from sklearn.model_selection import cross_val_score\n",
    "def objective(space):\n",
    "    model = RandomForestClassifier(n_estimators=space['n_estimators'],\n",
    "                                   max_depth=space['max_depth'],\n",
    "                                   max_features=space['max_features'],\n",
    "                                   criterion=space['criterion'])\n",
    "    accuracy = cross_val_score(model, X_train, y_train, cv=5).mean()\n",
    "    return {'loss': -accuracy, 'status': STATUS_OK}\n"
   ]
  },
  {
   "cell_type": "code",
   "execution_count": 12,
   "metadata": {},
   "outputs": [
    {
     "name": "stdout",
     "output_type": "stream",
     "text": [
      "  0%|          | 0/15 [00:00<?, ?trial/s, best loss=?]"
     ]
    },
    {
     "name": "stdout",
     "output_type": "stream",
     "text": [
      "100%|██████████| 15/15 [10:55<00:00, 43.68s/trial, best loss: -1.0]\n",
      "{'criterion': 0, 'max_depth': 2, 'max_features': 0, 'n_estimators': 4}\n"
     ]
    }
   ],
   "source": [
    "#finding the best hyperparameters\n",
    "trials = Trials()\n",
    "best = fmin(fn=objective,\n",
    "            space=space,\n",
    "            algo=tpe.suggest,\n",
    "            max_evals=15,\n",
    "            trials=trials)\n",
    "print(best)"
   ]
  },
  {
   "cell_type": "code",
   "execution_count": 26,
   "metadata": {},
   "outputs": [],
   "source": [
    "#traininf the model with the best hyperparameters\n",
    "best_model = RandomForestClassifier(n_estimators= best['n_estimators'],\n",
    "                                    max_depth=  best['max_depth'],\n",
    "                                    max_features=  1,\n",
    "                                    )\n",
    "\n"
   ]
  },
  {
   "cell_type": "code",
   "execution_count": 27,
   "metadata": {},
   "outputs": [
    {
     "data": {
      "text/plain": [
       "RandomForestClassifier(max_depth=2, max_features=1, n_estimators=4)"
      ]
     },
     "execution_count": 27,
     "metadata": {},
     "output_type": "execute_result"
    }
   ],
   "source": [
    "best_model.fit(X_train, y_train)"
   ]
  },
  {
   "cell_type": "code",
   "execution_count": 28,
   "metadata": {},
   "outputs": [
    {
     "data": {
      "text/plain": [
       "0.9514281996226169"
      ]
     },
     "execution_count": 28,
     "metadata": {},
     "output_type": "execute_result"
    }
   ],
   "source": [
    "#validating the model\n",
    "from sklearn.metrics import accuracy_score\n",
    "y_pred1 = best_model.predict(X_val)\n",
    "accuracy_score(y_val, y_pred1)"
   ]
  },
  {
   "cell_type": "code",
   "execution_count": 29,
   "metadata": {},
   "outputs": [
    {
     "data": {
      "text/plain": [
       "0.9516474042504738"
      ]
     },
     "execution_count": 29,
     "metadata": {},
     "output_type": "execute_result"
    }
   ],
   "source": [
    "#testing the model\n",
    "y_pred2 = best_model.predict(X_test)\n",
    "accuracy_score(y_test, y_pred2)"
   ]
  },
  {
   "cell_type": "code",
   "execution_count": 31,
   "metadata": {},
   "outputs": [],
   "source": [
    "#saving the model\n",
    "import pickle\n",
    "pickle.dump(best_model, open('anime_review_classifier_final.pkl', 'wb'))"
   ]
  },
  {
   "cell_type": "code",
   "execution_count": 38,
   "metadata": {},
   "outputs": [
    {
     "name": "stderr",
     "output_type": "stream",
     "text": [
      "c:\\Users\\User\\Documents\\python\\lib\\site-packages\\sklearn\\base.py:450: UserWarning: X does not have valid feature names, but RandomForestClassifier was fitted with feature names\n",
      "  warnings.warn(\n"
     ]
    },
    {
     "data": {
      "text/plain": [
       "array([1], dtype=int64)"
      ]
     },
     "execution_count": 38,
     "metadata": {},
     "output_type": "execute_result"
    }
   ],
   "source": [
    "best_model.predict([[9, 9, 9, 8, 9,8]])"
   ]
  }
 ],
 "metadata": {
  "kernelspec": {
   "display_name": "Python 3",
   "language": "python",
   "name": "python3"
  },
  "language_info": {
   "codemirror_mode": {
    "name": "ipython",
    "version": 3
   },
   "file_extension": ".py",
   "mimetype": "text/x-python",
   "name": "python",
   "nbconvert_exporter": "python",
   "pygments_lexer": "ipython3",
   "version": "3.9.8"
  },
  "orig_nbformat": 4
 },
 "nbformat": 4,
 "nbformat_minor": 2
}
